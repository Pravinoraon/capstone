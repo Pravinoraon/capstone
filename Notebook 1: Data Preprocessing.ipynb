{
  "cells": [
    {
      "cell_type": "markdown",
      "metadata": {
        "id": "view-in-github",
        "colab_type": "text"
      },
      "source": [
        "<a href=\"https://colab.research.google.com/github/Pravinoraon/capstone/blob/main/Notebook%201%3A%20Data%20Preprocessing.ipynb\" target=\"_parent\"><img src=\"https://colab.research.google.com/assets/colab-badge.svg\" alt=\"Open In Colab\"/></a>"
      ]
    },
    {
      "cell_type": "code",
      "source": [
        "import os\n",
        "import shutil\n",
        "import numpy as np\n",
        "import matplotlib.pyplot as plt\n",
        "from sklearn.model_selection import train_test_split\n",
        "from tensorflow.keras.preprocessing.image import ImageDataGenerator, load_img, img_to_array\n",
        "\n",
        "# Mount Google Drive (if using Drive)\n",
        "from google.colab import drive\n",
        "drive.mount('/content/drive')\n"
      ],
      "metadata": {
        "id": "S2S4rE16gFLD",
        "outputId": "d99c1459-96d8-4466-aa27-e8697539a835",
        "colab": {
          "base_uri": "https://localhost:8080/"
        }
      },
      "execution_count": 1,
      "outputs": [
        {
          "output_type": "stream",
          "name": "stdout",
          "text": [
            "Mounted at /content/drive\n"
          ]
        }
      ]
    },
    {
      "cell_type": "code",
      "source": [
        "# Define dataset location\n",
        "dataset_path = \"/content/drive/MyDrive/Data Set\"\n",
        "\n",
        "# Check if dataset exists\n",
        "if not os.path.exists(dataset_path):\n",
        "    raise FileNotFoundError(f\"Dataset not found at {dataset_path}\")\n",
        "\n",
        "# Define categories\n",
        "categories = ['Healthy', 'Diseased']\n"
      ],
      "metadata": {
        "id": "QS2pG6GrgLMn"
      },
      "execution_count": 2,
      "outputs": []
    },
    {
      "cell_type": "code",
      "source": [
        "# Define where to save train/val splits\n",
        "base_dir = \"/content/bell_pepper_data\"\n",
        "train_dir = os.path.join(base_dir, \"train\")\n",
        "val_dir = os.path.join(base_dir, \"val\")\n",
        "\n",
        "# Create directories\n",
        "for category in categories:\n",
        "    os.makedirs(os.path.join(train_dir, category), exist_ok=True)\n",
        "    os.makedirs(os.path.join(val_dir, category), exist_ok=True)\n",
        "\n",
        "# Split dataset (80% train, 20% validation)\n",
        "split_ratio = 0.2\n",
        "\n",
        "for category in categories:\n",
        "    category_path = os.path.join(dataset_path, category)\n",
        "    images = os.listdir(category_path)\n",
        "\n",
        "    train_images, val_images = train_test_split(images, test_size=split_ratio, random_state=42)\n",
        "\n",
        "    for img in train_images:\n",
        "        shutil.copy(os.path.join(category_path, img), os.path.join(train_dir, category, img))\n",
        "\n",
        "    for img in val_images:\n",
        "        shutil.copy(os.path.join(category_path, img), os.path.join(val_dir, category, img))\n",
        "\n",
        "print(\"✅ Dataset successfully split!\")\n"
      ],
      "metadata": {
        "id": "5aD09VW6gOQG",
        "outputId": "692c5ae8-2c36-4084-e05b-f7cd4b546490",
        "colab": {
          "base_uri": "https://localhost:8080/"
        }
      },
      "execution_count": 3,
      "outputs": [
        {
          "output_type": "stream",
          "name": "stdout",
          "text": [
            "✅ Dataset successfully split!\n"
          ]
        }
      ]
    },
    {
      "cell_type": "code",
      "source": [
        "# Move dataset to Drive (so it's not lost after restart)\n",
        "shutil.move(\"/content/bell_pepper_data\", \"/content/drive/MyDrive/bell_pepper_data\")\n",
        "\n",
        "# Save paths\n",
        "np.save(\"/content/drive/MyDrive/train_data.npy\", train_dir)\n",
        "np.save(\"/content/drive/MyDrive/val_data.npy\", val_dir)\n",
        "\n",
        "print(\"✅ Preprocessed dataset saved in Drive!\")\n"
      ],
      "metadata": {
        "id": "WV3XS_W0gil3",
        "outputId": "64cb1f46-90c6-4817-f45f-993179951139",
        "colab": {
          "base_uri": "https://localhost:8080/"
        }
      },
      "execution_count": 4,
      "outputs": [
        {
          "output_type": "stream",
          "name": "stdout",
          "text": [
            "✅ Preprocessed dataset saved in Drive!\n"
          ]
        }
      ]
    }
  ],
  "metadata": {
    "accelerator": "TPU",
    "colab": {
      "gpuType": "V28",
      "provenance": [],
      "include_colab_link": true
    },
    "kernelspec": {
      "display_name": "Python 3",
      "name": "python3"
    },
    "language_info": {
      "name": "python"
    }
  },
  "nbformat": 4,
  "nbformat_minor": 0
}