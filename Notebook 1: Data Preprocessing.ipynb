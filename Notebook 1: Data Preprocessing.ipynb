{
  "cells": [
    {
      "cell_type": "markdown",
      "metadata": {
        "id": "view-in-github",
        "colab_type": "text"
      },
      "source": [
        "<a href=\"https://colab.research.google.com/github/Pravinoraon/capstone/blob/main/Notebook%201%3A%20Data%20Preprocessing.ipynb\" target=\"_parent\"><img src=\"https://colab.research.google.com/assets/colab-badge.svg\" alt=\"Open In Colab\"/></a>"
      ]
    },
    {
      "cell_type": "code",
      "source": [
        "# Notebook 1: Data Preprocessing\n",
        "\n",
        "import os\n",
        "import shutil\n",
        "import numpy as np\n",
        "import matplotlib.pyplot as plt\n",
        "from sklearn.model_selection import train_test_split\n",
        "from tensorflow.keras.preprocessing.image import ImageDataGenerator, load_img, img_to_array"
      ],
      "metadata": {
        "id": "jGFh1dZdUbDJ"
      },
      "execution_count": 1,
      "outputs": []
    },
    {
      "cell_type": "code",
      "source": [
        "# Mount Google Drive (if using Drive)\n",
        "from google.colab import drive\n",
        "drive.mount('/content/drive')"
      ],
      "metadata": {
        "colab": {
          "base_uri": "https://localhost:8080/"
        },
        "id": "V9ZZXfZNUlJy",
        "outputId": "f79ddd66-3c57-49a6-c643-9d3ea5f796be"
      },
      "execution_count": 2,
      "outputs": [
        {
          "output_type": "stream",
          "name": "stdout",
          "text": [
            "Drive already mounted at /content/drive; to attempt to forcibly remount, call drive.mount(\"/content/drive\", force_remount=True).\n"
          ]
        }
      ]
    },
    {
      "cell_type": "code",
      "source": [
        "\n",
        "# Define dataset path (update based on where your dataset is stored)\n",
        "dataset_path = \"/content/drive/MyDrive/Data Set\"\n",
        "\n",
        "# Check dataset structure\n",
        "print(\"Dataset folders:\", os.listdir(dataset_path))"
      ],
      "metadata": {
        "colab": {
          "base_uri": "https://localhost:8080/"
        },
        "id": "uaoFdLtbUnJF",
        "outputId": "2a236462-2123-4bc6-e87f-411114999b6d"
      },
      "execution_count": 4,
      "outputs": [
        {
          "output_type": "stream",
          "name": "stdout",
          "text": [
            "Dataset folders: ['Healthy', 'Diseased']\n"
          ]
        }
      ]
    },
    {
      "cell_type": "code",
      "source": [
        "# Define categories\n",
        "categories = ['Healthy', 'Diseased']\n",
        "\n",
        "# Create directories for train/val split\n",
        "base_dir = \"/content/bell_pepper_data\"\n",
        "train_dir = os.path.join(base_dir, \"train\")\n",
        "val_dir = os.path.join(base_dir, \"val\")\n",
        "\n",
        "for category in categories:\n",
        "    os.makedirs(os.path.join(train_dir, category), exist_ok=True)\n",
        "    os.makedirs(os.path.join(val_dir, category), exist_ok=True)"
      ],
      "metadata": {
        "id": "iBxcYKE9VRau"
      },
      "execution_count": 5,
      "outputs": []
    },
    {
      "cell_type": "code",
      "source": [
        "\n",
        "# Split data\n",
        "split_ratio = 0.2  # 80% training, 20% validation\n",
        "\n",
        "for category in categories:\n",
        "    category_path = os.path.join(dataset_path, category)\n",
        "    images = os.listdir(category_path)\n",
        "\n",
        "    train_images, val_images = train_test_split(images, test_size=split_ratio, random_state=42)\n",
        "\n",
        "    for img in train_images:\n",
        "        shutil.copy(os.path.join(category_path, img), os.path.join(train_dir, category, img))\n",
        "\n",
        "    for img in val_images:\n",
        "        shutil.copy(os.path.join(category_path, img), os.path.join(val_dir, category, img))\n",
        "\n",
        "print(\"Dataset successfully split!\")"
      ],
      "metadata": {
        "colab": {
          "base_uri": "https://localhost:8080/"
        },
        "id": "5Svy7CEXVami",
        "outputId": "e6995177-ae93-43fe-8223-db11b12ca8e6"
      },
      "execution_count": 6,
      "outputs": [
        {
          "output_type": "stream",
          "name": "stdout",
          "text": [
            "Dataset successfully split!\n"
          ]
        }
      ]
    },
    {
      "cell_type": "code",
      "source": [
        "# Image Preprocessing\n",
        "IMG_SIZE = (224, 224)\n",
        "\n",
        "def preprocess_image(image_path):\n",
        "    img = load_img(image_path, target_size=IMG_SIZE)\n",
        "    img_array = img_to_array(img) / 255.0  # Normalize\n",
        "    return img_array\n",
        "\n",
        "# Augment training data\n",
        "datagen = ImageDataGenerator(rotation_range=20, horizontal_flip=True)"
      ],
      "metadata": {
        "id": "4D_0mGkNVtoS"
      },
      "execution_count": 7,
      "outputs": []
    },
    {
      "cell_type": "code",
      "source": [
        "# Save preprocessed dataset paths\n",
        "np.save(\"/content/train_data.npy\", train_dir)\n",
        "np.save(\"/content/val_data.npy\", val_dir)\n",
        "\n",
        "print(\"Preprocessed dataset saved!\")"
      ],
      "metadata": {
        "colab": {
          "base_uri": "https://localhost:8080/"
        },
        "id": "MZpAcp5xVv-p",
        "outputId": "b73ecb18-83a1-4e8a-b68c-7320b454df16"
      },
      "execution_count": 8,
      "outputs": [
        {
          "output_type": "stream",
          "name": "stdout",
          "text": [
            "Preprocessed dataset saved!\n"
          ]
        }
      ]
    }
  ],
  "metadata": {
    "accelerator": "TPU",
    "colab": {
      "gpuType": "V28",
      "provenance": [],
      "include_colab_link": true
    },
    "kernelspec": {
      "display_name": "Python 3",
      "name": "python3"
    },
    "language_info": {
      "name": "python"
    }
  },
  "nbformat": 4,
  "nbformat_minor": 0
}